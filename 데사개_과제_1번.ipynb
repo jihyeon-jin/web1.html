{
  "nbformat": 4,
  "nbformat_minor": 0,
  "metadata": {
    "colab": {
      "provenance": [],
      "authorship_tag": "ABX9TyOj0ZmKAWIYLG50F/nVGajZ",
      "include_colab_link": true
    },
    "kernelspec": {
      "name": "python3",
      "display_name": "Python 3"
    },
    "language_info": {
      "name": "python"
    }
  },
  "cells": [
    {
      "cell_type": "markdown",
      "metadata": {
        "id": "view-in-github",
        "colab_type": "text"
      },
      "source": [
        "<a href=\"https://colab.research.google.com/github/jihyeon-jin/web1.html/blob/main/%EB%8D%B0%EC%82%AC%EA%B0%9C_%EA%B3%BC%EC%A0%9C_1%EB%B2%88.ipynb\" target=\"_parent\"><img src=\"https://colab.research.google.com/assets/colab-badge.svg\" alt=\"Open In Colab\"/></a>"
      ]
    },
    {
      "cell_type": "code",
      "source": [
        "#과제 탭에서 Housing 데이터를 다운 받은 후 MEDV 변수를 다중 선형 회귀 분석\n",
        "\n",
        "#결측치가 있는 행은 모두 삭제한다\n",
        "#최소 3개 이상의 parameter sets를 구성하여 각 모델의 Coefficient 값과 R-squared 값을 도출\n",
        "#도출된 결과들을 비교하여 설명"
      ],
      "metadata": {
        "id": "6-H3Hbp6uV89"
      },
      "execution_count": null,
      "outputs": []
    },
    {
      "cell_type": "code",
      "source": [
        "from sklearn.linear_model import LinearRegression\n",
        "import pandas as pd\n",
        "import numpy as np\n",
        "import matplotlib.pyplot as plt\n",
        "import seaborn as sns\n",
        "df=pd.read_csv('/Housing.csv')\n",
        "df1=df.dropna(how='any',axis=0)\n",
        "print(df1.head())\n",
        "\n",
        "x=df1[['CRIM','TAX','PTRATIO','AGE','DIS','RM','RAD','LSTAT','B']]\n",
        "y=df1['MEDV']\n",
        "from sklearn.model_selection import train_test_split\n",
        "x_train, x_test, y_train, y_test=train_test_split(x,y,test_size=0.2, random_state=10)\n",
        "print('훈련', x_train.shape)\n",
        "print('검증', x_test.shape)\n",
        "from sklearn.linear_model import LinearRegression\n",
        "lr=LinearRegression()\n",
        "lr.fit(x_train,y_train)\n",
        "r_square=lr.score(x_test, y_test)\n",
        "print('R-squared: ',r_square) \n",
        "print('coef: ', lr.coef_)"
      ],
      "metadata": {
        "colab": {
          "base_uri": "https://localhost:8080/"
        },
        "id": "gXh5PadpxSIc",
        "outputId": "b476dc40-d56f-46fe-cd2a-856f7e677045"
      },
      "execution_count": 36,
      "outputs": [
        {
          "output_type": "stream",
          "name": "stdout",
          "text": [
            "      CRIM    ZN  INDUS  CHAS    NOX     RM   AGE     DIS  RAD  TAX  PTRATIO  \\\n",
            "0  0.00632  18.0   2.31   0.0  0.538  6.575  65.2  4.0900    1  296     15.3   \n",
            "1  0.02731   0.0   7.07   0.0  0.469  6.421  78.9  4.9671    2  242     17.8   \n",
            "2  0.02729   0.0   7.07   0.0  0.469  7.185  61.1  4.9671    2  242     17.8   \n",
            "3  0.03237   0.0   2.18   0.0  0.458  6.998  45.8  6.0622    3  222     18.7   \n",
            "5  0.02985   0.0   2.18   0.0  0.458  6.430  58.7  6.0622    3  222     18.7   \n",
            "\n",
            "        B  LSTAT  MEDV  \n",
            "0  396.90   4.98  24.0  \n",
            "1  396.90   9.14  21.6  \n",
            "2  392.83   4.03  34.7  \n",
            "3  394.63   2.94  33.4  \n",
            "5  394.12   5.21  28.7  \n",
            "훈련 (315, 9)\n",
            "검증 (79, 9)\n",
            "R-squared:  0.7579875968116618\n",
            "coef:  [-0.07857539 -0.01594318 -0.99783438 -0.04110185 -0.89352952  4.56482255\n",
            "  0.28272992 -0.45683437  0.01052737]\n"
          ]
        }
      ]
    },
    {
      "cell_type": "code",
      "source": [
        "x2=df1[['TAX','PTRATIO','DIS','RM','RAD','LSTAT','B']]\n",
        "y2=df1['MEDV']\n",
        "from sklearn.model_selection import train_test_split\n",
        "x2_train, x2_test, y2_train, y2_test=train_test_split(x2,y2,test_size=0.2, random_state=10)\n",
        "print('훈련', x2_train.shape)\n",
        "print('검증', x2_test.shape)\n",
        "from sklearn.linear_model import LinearRegression\n",
        "lr2=LinearRegression()\n",
        "lr2.fit(x2_train,y2_train)\n",
        "r2_square=lr2.score(x2_test, y2_test)\n",
        "print('R-squared: ',r2_square) \n",
        "print('coef: ', lr2.coef_)"
      ],
      "metadata": {
        "colab": {
          "base_uri": "https://localhost:8080/"
        },
        "id": "QoVRlsrO93zu",
        "outputId": "7abc6ff2-8d10-4044-8546-e970e7ff88fc"
      },
      "execution_count": 37,
      "outputs": [
        {
          "output_type": "stream",
          "name": "stdout",
          "text": [
            "훈련 (315, 7)\n",
            "검증 (79, 7)\n",
            "R-squared:  0.7523706534084491\n",
            "coef:  [-0.01616488 -0.99445398 -0.5460061   4.39059339  0.24781618 -0.53192868\n",
            "  0.01102498]\n"
          ]
        }
      ]
    },
    {
      "cell_type": "code",
      "source": [
        "x3=df1[['PTRATIO','DIS','RM','RAD','LSTAT','B']]\n",
        "y3=df1['MEDV']\n",
        "from sklearn.model_selection import train_test_split\n",
        "x3_train, x3_test, y3_train, y3_test=train_test_split(x3,y3,test_size=0.2, random_state=10)\n",
        "print('훈련', x3_train.shape)\n",
        "print('검증', x3_test.shape)\n",
        "from sklearn.linear_model import LinearRegression\n",
        "lr3=LinearRegression()\n",
        "lr3.fit(x3_train,y3_train)\n",
        "r3_square=lr3.score(x3_test, y3_test)\n",
        "print('R-squared: ',r3_square) \n",
        "print('coef: ', lr3.coef_)"
      ],
      "metadata": {
        "colab": {
          "base_uri": "https://localhost:8080/"
        },
        "id": "1Sorg2i3AAB-",
        "outputId": "58e265ee-c0f8-4082-b400-98660350cb7c"
      },
      "execution_count": 44,
      "outputs": [
        {
          "output_type": "stream",
          "name": "stdout",
          "text": [
            "훈련 (315, 6)\n",
            "검증 (79, 6)\n",
            "R-squared:  0.7553355382320158\n",
            "coef:  [-9.99296623e-01 -4.12146562e-01  4.61137272e+00 -3.94248921e-03\n",
            " -5.53606243e-01  1.15835472e-02]\n"
          ]
        }
      ]
    }
  ]
}